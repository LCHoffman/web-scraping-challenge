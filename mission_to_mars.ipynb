{
 "cells": [
  {
   "cell_type": "code",
   "execution_count": 1,
   "metadata": {},
   "outputs": [],
   "source": [
    "#Import Dependencies\n",
    "import pandas as pd\n",
    "from splinter import Browser\n",
    "from bs4 import BeautifulSoup\n",
    "import requests\n",
    "import pymongo"
   ]
  },
  {
   "cell_type": "code",
   "execution_count": 17,
   "metadata": {},
   "outputs": [],
   "source": [
    "#browser set-up\n",
    "executable_path = {\"executable_path\": \"C:/Users/lksh0/.wdm/drivers/chromedriver/win32/87.0.4280.20/chromedriver\"}\n",
    "browser = Browser(\"chrome\", **executable_path, headless=False)"
   ]
  },
  {
   "cell_type": "markdown",
   "metadata": {},
   "source": [
    "## NASA Mars News (Most recent article)"
   ]
  },
  {
   "cell_type": "code",
   "execution_count": 3,
   "metadata": {},
   "outputs": [],
   "source": [
    "#visit the website\n",
    "url = \"https://mars.nasa.gov/news/?page=0&per_page=40&order=publish_date+desc%2Ccreated_at+desc&search=&category=19%2C165%2C184%2C204&blank_scope=Latest\"\n",
    "browser.visit(url)\n",
    "\n",
    "#parse HTML\n",
    "html = browser.html\n",
    "soup = BeautifulSoup(html, 'html.parser')\n",
    "\n",
    "#step through HTML to find news title\n",
    "step1 = soup.find('ul', class_='item_list')\n",
    "step2 = step1.find('li', class_='slide')\n",
    "step3 = step2.find('div', class_='content_title')\n",
    "title = step3.text\n",
    "\n",
    "#continue step to find paragraph\n",
    "step4 = step2.find('div', class_='article_teaser_body')\n",
    "paragraph = step4.text\n"
   ]
  },
  {
   "cell_type": "code",
   "execution_count": 17,
   "metadata": {},
   "outputs": [
    {
     "name": "stdout",
     "output_type": "stream",
     "text": [
      "MOXIE Could Help Future Rockets Launch Off Mars\n",
      "------------------------------------------------\n",
      "NASA's Perseverance rover carries a device to convert Martian air into oxygen that, if produced on a larger scale, could be used not just for breathing, but also for fuel.\n"
     ]
    }
   ],
   "source": [
    "#check returns\n",
    "print(title)\n",
    "print('------------------------------------------------')\n",
    "print(paragraph)"
   ]
  },
  {
   "cell_type": "markdown",
   "metadata": {},
   "source": [
    "## JPL Mars Space Image (Featured)"
   ]
  },
  {
   "cell_type": "code",
   "execution_count": 4,
   "metadata": {},
   "outputs": [
    {
     "name": "stdout",
     "output_type": "stream",
     "text": [
      "/spaceimages/images/largesize/PIA24247_hires.jpg\n"
     ]
    }
   ],
   "source": [
    "#visit the website\n",
    "url = \"https://www.jpl.nasa.gov/spaceimages/?search=&category=Mars\"\n",
    "browser.visit(url)\n",
    "\n",
    "#Scrape the page into BeautifulSoup\n",
    "html = browser.html\n",
    "soup = BeautifulSoup(html, \"html.parser\")\n",
    "\n",
    "#Find the URL for the Image\n",
    "image_url = soup.find('li',class_='slide').a['data-fancybox-href']\n",
    "print(image_url)\n",
    "\n",
    "#Combine main website to image for full URL\n",
    "main = 'https://www.jpl.nasa.gov/'\n",
    "featured_image_url = main + image_url"
   ]
  },
  {
   "cell_type": "code",
   "execution_count": 5,
   "metadata": {},
   "outputs": [
    {
     "data": {
      "text/plain": [
       "'https://www.jpl.nasa.gov//spaceimages/images/largesize/PIA24247_hires.jpg'"
      ]
     },
     "execution_count": 5,
     "metadata": {},
     "output_type": "execute_result"
    }
   ],
   "source": [
    "featured_image_url"
   ]
  },
  {
   "cell_type": "markdown",
   "metadata": {},
   "source": [
    "## Mars Facts (table)"
   ]
  },
  {
   "cell_type": "code",
   "execution_count": 6,
   "metadata": {},
   "outputs": [
    {
     "data": {
      "text/plain": [
       "'<table border=\"1\" class=\"dataframe\">\\n  <tbody>\\n    <tr>\\n      <td>0</td>\\n      <td>Equatorial Diameter:</td>\\n      <td>6,792 km</td>\\n    </tr>\\n    <tr>\\n      <td>1</td>\\n      <td>Polar Diameter:</td>\\n      <td>6,752 km</td>\\n    </tr>\\n    <tr>\\n      <td>2</td>\\n      <td>Mass:</td>\\n      <td>6.39 × 10^23 kg (0.11 Earths)</td>\\n    </tr>\\n    <tr>\\n      <td>3</td>\\n      <td>Moons:</td>\\n      <td>2 (Phobos &amp; Deimos)</td>\\n    </tr>\\n    <tr>\\n      <td>4</td>\\n      <td>Orbit Distance:</td>\\n      <td>227,943,824 km (1.38 AU)</td>\\n    </tr>\\n    <tr>\\n      <td>5</td>\\n      <td>Orbit Period:</td>\\n      <td>687 days (1.9 years)</td>\\n    </tr>\\n    <tr>\\n      <td>6</td>\\n      <td>Surface Temperature:</td>\\n      <td>-87 to -5 °C</td>\\n    </tr>\\n    <tr>\\n      <td>7</td>\\n      <td>First Record:</td>\\n      <td>2nd millennium BC</td>\\n    </tr>\\n    <tr>\\n      <td>8</td>\\n      <td>Recorded By:</td>\\n      <td>Egyptian astronomers</td>\\n    </tr>\\n  </tbody>\\n</table>'"
      ]
     },
     "execution_count": 6,
     "metadata": {},
     "output_type": "execute_result"
    }
   ],
   "source": [
    "#Mars Facts website\n",
    "url = 'https://space-facts.com/mars/'\n",
    "\n",
    "#Read table data into Pandas\n",
    "mars_facts = pd.read_html(url)\n",
    "\n",
    "#Return results as a dataframe\n",
    "mars_df = mars_facts[0]\n",
    "#mars_df.head()\n",
    "\n",
    "#Convert table to HTML\n",
    "mars_df.to_html(header=False,bold_rows=False)"
   ]
  },
  {
   "cell_type": "markdown",
   "metadata": {},
   "source": [
    "## Mars Hemispheres (images)"
   ]
  },
  {
   "cell_type": "code",
   "execution_count": 58,
   "metadata": {},
   "outputs": [],
   "source": [
    "#visit the website\n",
    "url = \"https://astrogeology.usgs.gov/search/results?q=hemisphere+enhanced&k1=target&v1=Mars\"\n",
    "browser.visit(url)\n",
    "\n",
    "#Scrape the page into BeautifulSoup\n",
    "html = browser.html\n",
    "soup = BeautifulSoup(html, \"html.parser\")\n",
    "\n",
    "#List to store hemisphere data dictionaries\n",
    "hemisphere_data = []\n",
    "\n",
    "#dictionary for each hemisphere's data\n",
    "hemisphere = {}"
   ]
  },
  {
   "cell_type": "code",
   "execution_count": 59,
   "metadata": {},
   "outputs": [],
   "source": [
    "## Cerberus\n",
    "#dictionary for hemisphere\n",
    "hemisphere = {}\n",
    "    \n",
    "#click on the link\n",
    "browser.find_by_css('a.product-item h3').click()\n",
    "    \n",
    "#find href \"SAMPLE\" link to full size image and assign to dictionary\n",
    "sample = browser.find_link_by_text(\"Sample\").first\n",
    "img_url = sample[\"href\"]\n",
    "   \n",
    "#get the title from the page\n",
    "title = browser.find_by_css('h2.title').text\n",
    "\n",
    "#append information to dictionary\n",
    "hemisphere['title'] = title.replace(\"Enhanced\",\" \")\n",
    "hemisphere['img_url'] = img_url\n",
    "  \n",
    "#add the dictionary to the hemisphere_data list\n",
    "hemisphere_data.append(hemisphere)\n",
    "\n",
    "#go back to front page\n",
    "browser.back()"
   ]
  },
  {
   "cell_type": "code",
   "execution_count": 60,
   "metadata": {},
   "outputs": [],
   "source": [
    "## Schiaparelli\n",
    "#dictionary for hemisphere\n",
    "hemisphere = {}\n",
    "    \n",
    "#click on the link\n",
    "browser.find_by_css('a.product-item h3')[1].click()\n",
    "    \n",
    "#find href \"SAMPLE\" link to full size image and assign to dictionary\n",
    "sample = browser.find_link_by_text(\"Sample\").first\n",
    "img_url = sample[\"href\"]\n",
    "    \n",
    "#get the title from the page\n",
    "title = browser.find_by_css('h2.title').text\n",
    "\n",
    "#append information to dictionary\n",
    "hemisphere['title'] = title.replace(\"Enhanced\",\" \")\n",
    "hemisphere['img_url'] = img_url\n",
    "    \n",
    "#add the dictionary to the hemisphere_data list\n",
    "hemisphere_data.append(hemisphere)\n",
    "\n",
    "#go back to front page\n",
    "browser.back()"
   ]
  },
  {
   "cell_type": "code",
   "execution_count": 61,
   "metadata": {},
   "outputs": [],
   "source": [
    "## Syrtis Major\n",
    "#dictionary for hemisphere\n",
    "hemisphere = {}\n",
    "    \n",
    "#click on the link\n",
    "browser.find_by_css('a.product-item h3')[2].click()\n",
    "    \n",
    "#find href \"SAMPLE\" link to full size image and assign to dictionary\n",
    "sample = browser.find_link_by_text(\"Sample\").first\n",
    "img_url = sample[\"href\"]\n",
    "    \n",
    "#get the title from the page\n",
    "title = browser.find_by_css('h2.title').text\n",
    "\n",
    "#append information to dictionary\n",
    "hemisphere['title'] = title.replace(\"Enhanced\",\" \")\n",
    "hemisphere['img_url'] = img_url\n",
    "    \n",
    "#add the dictionary to the hemisphere_data list\n",
    "hemisphere_data.append(hemisphere)\n",
    "\n",
    "#go back to front page\n",
    "browser.back()"
   ]
  },
  {
   "cell_type": "code",
   "execution_count": 62,
   "metadata": {},
   "outputs": [],
   "source": [
    "## Valles\n",
    "#dictionary for hemisphere\n",
    "hemisphere = {}\n",
    "    \n",
    "#click on the link\n",
    "browser.find_by_css('a.product-item h3')[3].click()\n",
    "    \n",
    "#find href \"SAMPLE\" link to full size image and assign to dictionary\n",
    "sample = browser.find_link_by_text(\"Sample\").first\n",
    "img_url = sample[\"href\"]\n",
    "    \n",
    "#get the title from the page\n",
    "title = browser.find_by_css('h2.title').text\n",
    "\n",
    "#append information to dictionary\n",
    "hemisphere['title'] = title.replace(\"Enhanced\",\" \")\n",
    "hemisphere['img_url'] = img_url\n",
    "    \n",
    "#add the dictionary to the hemisphere_data list\n",
    "hemisphere_data.append(hemisphere)\n",
    "\n",
    "#go back to front page\n",
    "browser.back()"
   ]
  },
  {
   "cell_type": "code",
   "execution_count": 63,
   "metadata": {},
   "outputs": [
    {
     "name": "stdout",
     "output_type": "stream",
     "text": [
      "[{'title': 'Cerberus Hemisphere  ', 'img_url': 'https://astropedia.astrogeology.usgs.gov/download/Mars/Viking/cerberus_enhanced.tif/full.jpg'}, {'title': 'Schiaparelli Hemisphere  ', 'img_url': 'https://astropedia.astrogeology.usgs.gov/download/Mars/Viking/schiaparelli_enhanced.tif/full.jpg'}, {'title': 'Syrtis Major Hemisphere  ', 'img_url': 'https://astropedia.astrogeology.usgs.gov/download/Mars/Viking/syrtis_major_enhanced.tif/full.jpg'}, {'title': 'Valles Marineris Hemisphere  ', 'img_url': 'https://astropedia.astrogeology.usgs.gov/download/Mars/Viking/valles_marineris_enhanced.tif/full.jpg'}]\n"
     ]
    }
   ],
   "source": [
    "print(hemisphere_data)"
   ]
  }
 ],
 "metadata": {
  "kernelspec": {
   "display_name": "Python [conda env:PythonData] *",
   "language": "python",
   "name": "conda-env-PythonData-py"
  },
  "language_info": {
   "codemirror_mode": {
    "name": "ipython",
    "version": 3
   },
   "file_extension": ".py",
   "mimetype": "text/x-python",
   "name": "python",
   "nbconvert_exporter": "python",
   "pygments_lexer": "ipython3",
   "version": "3.6.10"
  }
 },
 "nbformat": 4,
 "nbformat_minor": 4
}